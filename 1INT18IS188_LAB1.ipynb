{
 "cells": [
  {
   "cell_type": "code",
   "execution_count": null,
   "metadata": {},
   "outputs": [],
   "source": [
    "l1=[1,2,3]\n",
    "l2=[4,5,6]\n",
    "l3=l1+l2\n",
    "total =[]"
   ]
  },
  {
   "cell_type": "markdown",
   "metadata": {},
   "source": []
  },
  {
   "cell_type": "code",
   "execution_count": null,
   "metadata": {},
   "outputs": [],
   "source": []
  },
  {
   "cell_type": "raw",
   "metadata": {},
   "source": []
  },
  {
   "cell_type": "code",
   "execution_count": null,
   "metadata": {},
   "outputs": [],
   "source": [
    "for j in range(3):\n",
    "    total.append( l1[j] + l2[j])\n",
    " \n",
    "print(\"\\nThe total Sum of Two Lists =  \", total)\n"
   ]
  },
  {
   "cell_type": "markdown",
   "metadata": {},
   "source": [
    "# simple calculator"
   ]
  },
  {
   "cell_type": "code",
   "execution_count": null,
   "metadata": {},
   "outputs": [],
   "source": [
    "\n",
    "    \n",
    "def addition(num1,num2):\n",
    "    num1 = num1+num2\n",
    "    return num1\n",
    "def subtraction(num1,num2):\n",
    "    num1 = num1-num2\n",
    "    return num1\n",
    "def mul(num1,num2):\n",
    "    num1 *= num2\n",
    "    return num1\n",
    "def division(num1,num2):\n",
    "    num1 /= num2\n",
    "    return num1\n",
    "\n",
    "\n",
    "def default(num1,num2):\n",
    "    return \"Incorrect entry\"\n",
    "def calculator(num1,num2,option):\n",
    "    if (option==1):\n",
    "        return addition(num1,num2)\n",
    "    elif (option==2):\n",
    "        return subtraction(num1,num2)\n",
    "    elif(option==3):\n",
    "        return mul(num1,num2)\n",
    "    else:\n",
    "        return division(num1,num2)\n",
    "    \n",
    "\n",
    "    "
   ]
  },
  {
   "cell_type": "code",
   "execution_count": null,
   "metadata": {},
   "outputs": [],
   "source": [
    "\n",
    "var1 = int(input(\"input1\"))\n",
    "var2 = int(input(\"input2\"))\n",
    "choice =int(input(\"enter ur choice 1. addition 2.subtraction 3 multiplication 4 division\"))\n",
    "print(calculator(var1,var2,choice))\n"
   ]
  },
  {
   "cell_type": "markdown",
   "metadata": {},
   "source": [
    "# bubble sort"
   ]
  },
  {
   "cell_type": "code",
   "execution_count": null,
   "metadata": {},
   "outputs": [],
   "source": [
    "\n",
    "def bubble_sort(l1):  \n",
    "\n",
    "    for i in range(0,len(l1)-1):  \n",
    "        for j in range(len(l1)-1):  \n",
    "            if(l1[j]>l1[j+1]):  \n",
    "                temp = l1[j]  \n",
    "                l1[j] = l1[j+1]  \n",
    "                l1[j+1] = temp  \n",
    "    return l1  \n",
    "  \n",
    "l1 = [5, 3, 8, 6, 7, 2]  \n",
    "print(len(l1))\n",
    "print(\"The unsorted list is: \", list1)   \n",
    "print(\"The sorted list is: \", bubble_sort(list1)) "
   ]
  },
  {
   "cell_type": "markdown",
   "metadata": {},
   "source": [
    "# mean median mode"
   ]
  },
  {
   "cell_type": "code",
   "execution_count": 1,
   "metadata": {},
   "outputs": [],
   "source": [
    "import math\n",
    "import numpy as np\n",
    "from sklearn.preprocessing import StandardScaler"
   ]
  },
  {
   "cell_type": "code",
   "execution_count": 2,
   "metadata": {},
   "outputs": [],
   "source": [
    "def mean(list):\n",
    "    total=0\n",
    "    for i in range(0,len(list)):\n",
    "        total+=list[i]\n",
    "    return (total/len(list))\n",
    "def median(list):\n",
    "    for i in range(0,len(list)-1):  \n",
    "        for j in range(len(list)-1):  \n",
    "            if(list[j]>list[j+1]):  \n",
    "                temp = list[j]  \n",
    "                list[j] = list[j+1]  \n",
    "                list[j+1] = temp \n",
    "    if((len(list)%2)==0):\n",
    "        \n",
    "        return (list[int(len(list)/2)]+list[int(len(list)/2)-1])/2\n",
    "    else:\n",
    "        return list[int(len(list)/2)]  \n",
    "\n",
    "     \n",
    "def mode(num_list):\n",
    "    unique_num_list =[]\n",
    "    unique_num_list =set(num_list)\n",
    "    dictionary ={}\n",
    "    for i in unique_num_list:\n",
    "      get_count = num_list.count(i)\n",
    "      dictionary[i]=get_count\n",
    "    max_repeat=0\n",
    "    for i in unique_num_list:\n",
    "      get_value=dictionary[i]\n",
    "      if get_value>max_repeat:\n",
    "        max_repeat= get_value\n",
    "    result=''    \n",
    "    for i in unique_num_list:\n",
    "        \n",
    "        if dictionary[i]==max_repeat:\n",
    "            result= result + str(i)+ \" \"    \n",
    "    return result          \n",
    "\n",
    "\n",
    "def calculate(list,var):\n",
    "    if (var==1):\n",
    "        return  mean(list)\n",
    "    elif (var==2):\n",
    "        return mode(list)\n",
    "    elif (var==3):\n",
    "        return median(list)\n",
    "    elif (var==4):\n",
    "        return standard(list)\n",
    "    elif (var==6):\n",
    "        return normalize(list)\n",
    "    elif (var==7):\n",
    "        return standardize(list)\n",
    "    else:\n",
    "        return variance(list)\n",
    "def standard(list):\n",
    "    n=mean(list)\n",
    "    temp=0\n",
    "    for i in list:\n",
    "        temp=temp +((i-n)**2)\n",
    "    sd=math.sqrt((temp/len(list)))\n",
    "    return sd\n",
    "def variance(list):\n",
    "    n=mean(list)\n",
    "    temp=0\n",
    "    for i in range(len(list)):\n",
    "        temp=temp +((i-n)**2)\n",
    "        sd=math.sqrt((temp/len(list)))\n",
    "        var=sd*sd\n",
    "    print(\"variance is {}\".format(var))\n",
    "def normalize(list):\n",
    "    n1=min(list)\n",
    "    n2= max(list)\n",
    "    n3=0\n",
    "    for i in list:\n",
    "        n3=((i-n1)/(n2-n1))\n",
    "        print(n3)\n",
    "def standardize(list):\n",
    "    n3=0\n",
    "    n1=mean(list)\n",
    "    n2=standard(list)\n",
    "    for i in list:\n",
    "        n3=((i-n1)/n2)\n",
    "        print(n3)\n",
    "    "
   ]
  },
  {
   "cell_type": "code",
   "execution_count": 6,
   "metadata": {},
   "outputs": [
    {
     "name": "stdout",
     "output_type": "stream",
     "text": [
      "1.mean 2 mode 3 median 4 Standard deviation 5 variance 6 normalization 7 standardization7\n",
      "-0.22422720478983732\n",
      "2.803217546749711\n",
      "-0.02793402887954231\n",
      "-0.4167455119326263\n",
      "-1.164169527898749\n",
      "-0.5903894752378875\n",
      "-0.3903214305600865\n",
      "-0.18647851711478058\n",
      "0.040013608935559664\n",
      "0.15703454072823578\n",
      "None\n"
     ]
    }
   ],
   "source": [
    "#list=[1,2,2,3,4,5]\n",
    "list =[115.3,195.5,120.5,110.2,90.4,105.6,110.9,116.3,122.3,125.4]\n",
    "var =int(input(\"1.mean 2 mode 3 median 4 Standard deviation 5 variance 6 normalization 7 standardization\"))\n",
    "print(calculate(list,var))\n"
   ]
  },
  {
   "cell_type": "markdown",
   "metadata": {},
   "source": [
    "## np.std(list)"
   ]
  },
  {
   "cell_type": "code",
   "execution_count": 28,
   "metadata": {},
   "outputs": [
    {
     "data": {
      "text/plain": [
       "26.490987146574962"
      ]
     },
     "execution_count": 28,
     "metadata": {},
     "output_type": "execute_result"
    }
   ],
   "source": [
    "np.std(list)"
   ]
  },
  {
   "cell_type": "markdown",
   "metadata": {},
   "source": [
    "LAB 3\n"
   ]
  },
  {
   "cell_type": "code",
   "execution_count": 36,
   "metadata": {},
   "outputs": [
    {
     "name": "stdout",
     "output_type": "stream",
     "text": [
      "[[5.9, 3.2], [4.6, 2.9], [4.7, 3.2], [5.0, 3.0], [4.9, 3.1], [5.1, 3.8], [6.0, 3.0]]\n",
      "[[5.5, 4.2]]\n",
      "[[6.2, 2.8], [6.7, 3.1]]\n",
      "centroids after 1st iteration\n",
      "5.17 3.17\n",
      "5.5 4.2\n",
      "6.45 2.95\n",
      "[[4.6, 2.9], [4.7, 3.2], [5.0, 3.0], [4.9, 3.1]]\n",
      "[[5.5, 4.2], [5.1, 3.8]]\n",
      "[[5.9, 3.2], [6.2, 2.8], [6.7, 3.1], [6.0, 3.0]]\n",
      "centroids after 2nd iteration\n",
      "4.8 3.05\n",
      "5.3 4.0\n",
      "6.2 3.02\n"
     ]
    }
   ],
   "source": [
    "import numpy\n",
    "import math\n",
    "\n",
    "def ed(x,y):\n",
    "    d1=math.sqrt((x-x1)**2 + (y-y1)**2)\n",
    "    d2=math.sqrt((x-x2)**2 + (y-y2)**2)\n",
    "    d3=math.sqrt((x-x3)**2 + (y-y3)**2)\n",
    "    m=min(d1,d2,d3)\n",
    "    if (m==d1):\n",
    "        c1.append([x,y])\n",
    "    if (m==d2):\n",
    "        c2.append([x,y])\n",
    "    if (m==d3):\n",
    "        c3.append([x,y])\n",
    "        \n",
    "        \n",
    "def ed1(x,y):\n",
    "    d1=math.sqrt((x-x1)**2 + (y-y1)**2)\n",
    "    d2=math.sqrt((x-x2)**2 + (y-y2)**2)\n",
    "    d3=math.sqrt((x-x3)**2 + (y-y3)**2)\n",
    "    m=min(d1,d2,d3)\n",
    "    if (m==d1):\n",
    "        c1.append([x,y])\n",
    "    if (m==d2):\n",
    "        c2.append([x,y])\n",
    "    if (m==d3):\n",
    "        c3.append([x,y])\n",
    "    \n",
    "\n",
    "        \n",
    "        \n",
    "def centroid(cen):\n",
    "    sumi =0\n",
    "    sumj =0\n",
    "    for i,j in cen:\n",
    "        sumi= sumi +i\n",
    "        sumj= sumj +j\n",
    "    n_x1= round(sumi/len(cen),2)\n",
    "    n_y1=round(sumj/len(cen),2)\n",
    "    print(n_x1,n_y1)\n",
    "    return [n_x1,n_y1]\n",
    "            \n",
    "    \n",
    "c1=[]\n",
    "c2=[]\n",
    "c3=[]\n",
    "\n",
    "x1,y1=6.2,3.2\n",
    "x2,y2=6.6,3.7\n",
    "x3,y3=6.5,3.0\n",
    "points=[[5.9,3.2],[4.6,2.9],[6.2,2.8],[4.7,3.2],[5.5,4.2],[5.0,3.0],[4.9,3.1],[6.7,3.1],[5.1,3.8],[6.0,3.0]]\n",
    "for i,j in points:\n",
    "    ed1(i,j)\n",
    "    \n",
    "print(c1)\n",
    "print(c2)\n",
    "print(c3)\n",
    "print(\"centroids after 1st iteration\")\n",
    "new_c1=centroid(c1)\n",
    "new_c2=centroid(cx1,y1= new_c1[0],new_c1[1]\n",
    "x2,y2=new_c2[0],new_c2[1]\n",
    "x3,y3=new_c3[0],new_c3[1]2)\n",
    "new_c3=centroid(c3)\n",
    "x1,y1= new_c1[0],new_c1[1]\n",
    "x2,y2=new_c2[0],new_c2[1]\n",
    "x3,y3=new_c3[0],new_c3[1]\n",
    "c1=[]\n",
    "c2=[]\n",
    "c3=[]\n",
    "for i,j in points:\n",
    "        ed(i,j)\n",
    "print(c1)\n",
    "print(c2)\n",
    "print(c3)\n",
    "print(\"centroids after 2nd iteration\")\n",
    "new_c1=centroid(c1)\n",
    "new_c2=centroid(c2)\n",
    "new_c3=centroid(c3)\n"
   ]
  },
  {
   "cell_type": "code",
   "execution_count": null,
   "metadata": {},
   "outputs": [],
   "source": []
  },
  {
   "cell_type": "code",
   "execution_count": null,
   "metadata": {},
   "outputs": [],
   "source": [
    "\n"
   ]
  },
  {
   "cell_type": "code",
   "execution_count": 14,
   "metadata": {},
   "outputs": [
    {
     "data": {
      "text/plain": [
       "3.2"
      ]
     },
     "execution_count": 14,
     "metadata": {},
     "output_type": "execute_result"
    }
   ],
   "source": []
  },
  {
   "cell_type": "code",
   "execution_count": null,
   "metadata": {},
   "outputs": [],
   "source": []
  }
 ],
 "metadata": {
  "kernelspec": {
   "display_name": "Python 3",
   "language": "python",
   "name": "python3"
  },
  "language_info": {
   "codemirror_mode": {
    "name": "ipython",
    "version": 3
   },
   "file_extension": ".py",
   "mimetype": "text/x-python",
   "name": "python",
   "nbconvert_exporter": "python",
   "pygments_lexer": "ipython3",
   "version": "3.6.9"
  }
 },
 "nbformat": 4,
 "nbformat_minor": 4
}
