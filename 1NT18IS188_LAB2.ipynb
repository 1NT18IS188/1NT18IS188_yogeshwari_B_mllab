{
 "cells": [
  {
   "cell_type": "code",
   "execution_count": 21,
   "metadata": {},
   "outputs": [],
   "source": [
    "import numpy\n",
    "import math\n",
    "\n",
    "def ed(x,y):\n",
    "    d1=math.sqrt((x-x1)**2 + (y-y1)**2)\n",
    "    d2=math.sqrt((x-x2)**2 + (y-y2)**2)\n",
    "    d3=math.sqrt((x-x3)**2 + (y-y3)**2)\n",
    "    m=min(d1,d2,d3)\n",
    "    if (m==d1):\n",
    "        c1.append([x,y])\n",
    "    if (m==d2):\n",
    "        c2.append([x,y])\n",
    "    if (m==d3):\n",
    "        c3.append([x,y])\n",
    "        \n",
    "        \n",
    "    \n",
    "\n",
    "        \n",
    "        \n",
    "def centroid(cen):\n",
    "    sumi =0\n",
    "    sumj =0\n",
    "    for i,j in cen:\n",
    "        sumi= sumi +i\n",
    "        sumj= sumj +j\n",
    "    n_x1= round(sumi/len(cen),2)\n",
    "    n_y1=round(sumj/len(cen),2)\n",
    "    print(n_x1,n_y1)\n",
    "    return [n_x1,n_y1]\n",
    "            \n",
    "    "
   ]
  },
  {
   "cell_type": "code",
   "execution_count": 24,
   "metadata": {},
   "outputs": [],
   "source": [
    "x1,y1=6.2,3.2\n",
    "x2,y2=6.6,3.7\n",
    "x3,y3=6.5,3.0\n",
    "points=[[5.9,3.2],[4.6,2.9],[6.2,2.8],[4.7,3.2],[5.5,4.2],[5.0,3.0],[4.9,3.1],[6.7,3.1],[5.1,3.8],[6.0,3.0]]"
   ]
  },
  {
   "cell_type": "code",
   "execution_count": 25,
   "metadata": {},
   "outputs": [
    {
     "name": "stdout",
     "output_type": "stream",
     "text": [
      "enter iteration value3\n",
      "centroid after 0 iteration\n",
      "5.17 3.17\n",
      "5.5 4.2\n",
      "6.45 2.95\n",
      "centroid after 1 iteration\n",
      "4.8 3.05\n",
      "5.3 4.0\n",
      "6.2 3.02\n",
      "centroid after 2 iteration\n",
      "4.8 3.05\n",
      "5.3 4.0\n",
      "6.2 3.02\n"
     ]
    }
   ],
   "source": [
    "var =int(input(\"enter iteration value\"))\n",
    "for m in range(0,var):\n",
    "         c1=[]\n",
    "         c2=[]\n",
    "         c3=[]\n",
    "         print(\"centroid after {} iteration\".format(m+1))\n",
    "         for i,j in points:\n",
    "            ed(i,j)\n",
    "         new_c1=centroid(c1)\n",
    "         new_c2=centroid(c2)\n",
    "         new_c3=centroid(c3)\n",
    "         x1,y1= new_c1[0],new_c1[1]\n",
    "         x2,y2=new_c2[0],new_c2[1]\n",
    "         x3,y3=new_c3[0],new_c3[1]\n",
    "        "
   ]
  },
  {
   "cell_type": "code",
   "execution_count": null,
   "metadata": {},
   "outputs": [],
   "source": []
  },
  {
   "cell_type": "code",
   "execution_count": null,
   "metadata": {},
   "outputs": [],
   "source": []
  }
 ],
 "metadata": {
  "kernelspec": {
   "display_name": "Python 3",
   "language": "python",
   "name": "python3"
  },
  "language_info": {
   "codemirror_mode": {
    "name": "ipython",
    "version": 3
   },
   "file_extension": ".py",
   "mimetype": "text/x-python",
   "name": "python",
   "nbconvert_exporter": "python",
   "pygments_lexer": "ipython3",
   "version": "3.6.9"
  }
 },
 "nbformat": 4,
 "nbformat_minor": 2
}
